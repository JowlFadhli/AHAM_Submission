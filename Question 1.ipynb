{
 "cells": [
  {
   "cell_type": "markdown",
   "id": "b5e86fec-1440-4467-a48e-e09de6b112f1",
   "metadata": {},
   "source": [
    "# Task 1: Data Model Design. Create a Python class for representing an investment fund."
   ]
  },
  {
   "cell_type": "markdown",
   "id": "2d5bb67c-a85f-47f0-804a-15110e85d7fd",
   "metadata": {},
   "source": [
    "### The class should have the following attributes:\n",
    "Fund ID, Fund Name, Fund Manager Name, Fund Description, Fund Net Asset Value (NAV), Fund Date of Creation, Fund Performance (as a percentage)\n",
    "\n",
    "Answer:"
   ]
  },
  {
   "cell_type": "code",
   "execution_count": 1,
   "id": "31700626-1407-4ad3-a25d-75167d436a16",
   "metadata": {},
   "outputs": [],
   "source": [
    "# Below class represents an investment fund and includes several attributes to store detailed information based on the criteria given.\n",
    "\n",
    "class InvestmentFund:\n",
    "    # __init__ method to initializes the attributes when a new object is created\n",
    "    def __init__(self, fund_id, fund_name, fund_manager_name, fund_description, fund_nav, fund_creation_date, fund_performance):\n",
    "        self.fund_id = fund_id  # Fund ID\n",
    "        self.fund_name = fund_name  # Fund Name\n",
    "        self.fund_manager_name = fund_manager_name  # Fund Manager Name\n",
    "        self.fund_description = fund_description  # Fund Description\n",
    "        self.fund_nav = fund_nav  # Fund Net Asset Value (NAV)\n",
    "        self.fund_creation_date = fund_creation_date  # Fund Date of Creation\n",
    "        self.fund_performance = fund_performance  # Fund Performance (percentage)\n",
    "\n",
    "    # To handle incorrect input, below portion helps for input validation\n",
    "    # Fund ID validation. \n",
    "    # Alas, there is certain situation that the Fund ID would be of alphanumeric character hence real case data is needed.\n",
    "    @property\n",
    "    def fund_id(self):\n",
    "        return self._fund_id\n",
    "\n",
    "    @fund_id.setter\n",
    "    def fund_id(self, value):\n",
    "        if not isinstance(value, int):\n",
    "            raise ValueError(\"Fund ID must be an integer.\")\n",
    "        self._fund_id = value\n",
    "\n",
    "    # Fund Name validation\n",
    "    @property\n",
    "    def fund_name(self):\n",
    "        return self._fund_name\n",
    "\n",
    "    @fund_name.setter\n",
    "    def fund_name(self, value):\n",
    "        if not value or not isinstance(value, str):\n",
    "            raise ValueError(\"Fund Name must be a non-empty string.\")\n",
    "        self._fund_name = value\n",
    "\n",
    "    # Fund NAV validation\n",
    "    @property\n",
    "    def fund_nav(self):\n",
    "        return self._fund_nav\n",
    "\n",
    "    @fund_nav.setter\n",
    "    def fund_nav(self, value):\n",
    "        if not isinstance(value, (int, float)) or value < 0:\n",
    "            raise ValueError(\"Fund NAV must be a non-negative number.\")\n",
    "        self._fund_nav = value\n",
    "\n",
    "    # Fund Performance validation\n",
    "    @property\n",
    "    def fund_performance(self):\n",
    "        return self._fund_performance\n",
    "\n",
    "    @fund_performance.setter\n",
    "    def fund_performance(self, value):\n",
    "        if not isinstance(value, (int, float)) or not -100 <= value <= 100:\n",
    "            raise ValueError(\"Fund Performance must be a percentage between -100 and 100.\")\n",
    "        self._fund_performance = value\n",
    "\n",
    "    # __str__ method to create a readable string representation\n",
    "    def __str__(self):\n",
    "        return (f\"Fund ID: {self.fund_id}\\n\"\n",
    "                f\"Fund Name: {self.fund_name}\\n\"\n",
    "                f\"Fund Manager: {self.fund_manager_name}\\n\"\n",
    "                f\"Description: {self.fund_description}\\n\"\n",
    "                f\"NAV: {self.fund_nav}\\n\"\n",
    "                f\"Date of Creation: {self.fund_creation_date}\\n\"\n",
    "                f\"Performance: {self.fund_performance}%\")\n"
   ]
  },
  {
   "cell_type": "markdown",
   "id": "4a87c3a9-659c-4e3b-a944-277971ba28be",
   "metadata": {},
   "source": [
    "### To properly test and validate the input, several case scenario is provided below as the input validation is only applied to only 4 attributes (Fund ID, Fund Name, Fund NAV and Fund Performance) given their possibility of incorrect input."
   ]
  },
  {
   "cell_type": "code",
   "execution_count": 2,
   "id": "d47aa1ed-55e3-4340-84b0-46e6532bce71",
   "metadata": {},
   "outputs": [
    {
     "name": "stdout",
     "output_type": "stream",
     "text": [
      "Error: Fund ID must be an integer.\n"
     ]
    }
   ],
   "source": [
    "# Non-integer Fund ID. \n",
    "# Alas, there is certain situation that the Fund ID would be of alphanumeric character hence real case data is needed to adjust the code\n",
    "\n",
    "from datetime import date # Importing datetime library for testing\n",
    "\n",
    "try:\n",
    "    fund_invalid_id = InvestmentFund(\n",
    "        fund_id=\"XYZ12\",  # Invalid ID (not an integer)\n",
    "        fund_name=\"Gregorian\",\n",
    "        fund_manager_name=\"Tony Smith\",\n",
    "        fund_description=\"Testing\",\n",
    "        fund_nav=200.50,\n",
    "        fund_creation_date=date(2021, 8, 1),\n",
    "        fund_performance=8.0\n",
    "    )\n",
    "except ValueError as e:\n",
    "    print(f\"Error: {e}\")  # Expect \"Fund ID must be an integer.\"\n"
   ]
  },
  {
   "cell_type": "code",
   "execution_count": 3,
   "id": "6fc6dd0f-98f9-4252-b344-61215796e23d",
   "metadata": {},
   "outputs": [
    {
     "name": "stdout",
     "output_type": "stream",
     "text": [
      "Error: Fund Name must be a non-empty string.\n"
     ]
    }
   ],
   "source": [
    "# Empty fund name\n",
    "from datetime import date\n",
    "try:\n",
    "    fund_invalid_name = InvestmentFund(\n",
    "        fund_id=102,\n",
    "        fund_name=\"\",  # Invalid name (empty string)\n",
    "        fund_manager_name=\"Tony Smith\",\n",
    "        fund_description=\"Testing\",\n",
    "        fund_nav=200.50,\n",
    "        fund_creation_date=date(2021, 8, 1),\n",
    "        fund_performance=8.0\n",
    "    )\n",
    "except ValueError as e:\n",
    "    print(f\"Error: {e}\")  # Expect \"Fund Name must be a non-empty string.\"\n"
   ]
  },
  {
   "cell_type": "code",
   "execution_count": null,
   "id": "11696d58-68e3-4cc0-8ba8-15f461edcb4c",
   "metadata": {},
   "outputs": [],
   "source": [
    "# Negative number Fund NAV\n",
    "try:\n",
    "    fund_invalid_nav = InvestmentFund(\n",
    "        fund_id=103,\n",
    "        fund_name=\"Gregorian\",\n",
    "        fund_manager_name=\"Maya Lopez\",\n",
    "        fund_description=\"Testing\",\n",
    "        fund_nav=-50.0,  # Invalid NAV (negative value)\n",
    "        fund_creation_date=date(2020, 6, 10),\n",
    "        fund_performance=5.0\n",
    "    )\n",
    "except ValueError as e:\n",
    "    print(f\"Error: {e}\")  # Expect \"Fund NAV must be a non-negative number.\"\n"
   ]
  },
  {
   "cell_type": "code",
   "execution_count": 5,
   "id": "302cac81-e901-451f-9a1a-b056af6fd2c2",
   "metadata": {},
   "outputs": [
    {
     "name": "stdout",
     "output_type": "stream",
     "text": [
      "Error: Fund Performance must be a percentage between -100 and 100.\n"
     ]
    }
   ],
   "source": [
    "# Invalid performance (greater than 100%)\n",
    "try:\n",
    "    fund_invalid_performance = InvestmentFund(\n",
    "        fund_id=104,\n",
    "        fund_name=\"Extreme Performance Fund\",\n",
    "        fund_manager_name=\"Raj Kumar\",\n",
    "        fund_description=\"Testing out-of-range performance.\",\n",
    "        fund_nav=300.0,\n",
    "        fund_creation_date=date(2019, 3, 25),\n",
    "        fund_performance=150.0  \n",
    "    )\n",
    "except ValueError as e:\n",
    "    print(f\"Error: {e}\")  # Expect \"Fund Performance must be a percentage between -100 and 100.\"\n"
   ]
  }
 ],
 "metadata": {
  "kernelspec": {
   "display_name": "venv",
   "language": "python",
   "name": "python3"
  },
  "language_info": {
   "codemirror_mode": {
    "name": "ipython",
    "version": 3
   },
   "file_extension": ".py",
   "mimetype": "text/x-python",
   "name": "python",
   "nbconvert_exporter": "python",
   "pygments_lexer": "ipython3",
   "version": "3.13.2"
  }
 },
 "nbformat": 4,
 "nbformat_minor": 5
}
