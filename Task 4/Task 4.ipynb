{
 "cells": [
  {
   "cell_type": "markdown",
   "id": "2c2ed144-2c29-4c14-b34f-1ab8b68b0014",
   "metadata": {},
   "source": [
    "# Task 4: SQL Database Schema. Design an appropriate database schema to store investment fund data. \n",
    "Create SQL statements to create the necessary tables and relationships.\n",
    "\n",
    "Using SQLite3 library, the tables and relationship along with its properties are assigned below. Similarly, .py file has also been created to run the code in any terminal or prompt. This to better visualize the functionality of the code.\n",
    "\n",
    "Answer:"
   ]
  },
  {
   "cell_type": "code",
   "execution_count": 1,
   "id": "8f6ad917-b6e3-4dc7-a38c-a4225a3f840c",
   "metadata": {},
   "outputs": [
    {
     "name": "stdout",
     "output_type": "stream",
     "text": [
      "Database schema created successfully.\n",
      "Database connection closed.\n"
     ]
    }
   ],
   "source": [
    "import sqlite3\n",
    "\n",
    "# Database file name\n",
    "DB_FILE = 'investment_funds.db'\n",
    "\n",
    "# Establish connection to the database\n",
    "connection = sqlite3.connect(DB_FILE)\n",
    "cursor = connection.cursor()\n",
    "\n",
    "# Create the necessary tables for the investment funds database\n",
    "def create_database_schema():\n",
    "    \n",
    "    # Create the 'funds' table\n",
    "    cursor.execute(\"\"\"\n",
    "    CREATE TABLE IF NOT EXISTS funds (\n",
    "        fund_id INTEGER PRIMARY KEY AUTOINCREMENT,\n",
    "        fund_name TEXT NOT NULL UNIQUE,\n",
    "        fund_type TEXT NOT NULL,\n",
    "        created_date DATE NOT NULL,\n",
    "        total_assets REAL NOT NULL\n",
    "    )\n",
    "    \"\"\")\n",
    "\n",
    "    # Create the 'transactions' table\n",
    "    cursor.execute(\"\"\"\n",
    "    CREATE TABLE IF NOT EXISTS transactions (\n",
    "        transaction_id INTEGER PRIMARY KEY AUTOINCREMENT,\n",
    "        fund_id INTEGER NOT NULL,\n",
    "        transaction_date DATE NOT NULL,\n",
    "        amount REAL NOT NULL,\n",
    "        transaction_type TEXT NOT NULL CHECK (transaction_type IN ('buy', 'sell')),\n",
    "        FOREIGN KEY (fund_id) REFERENCES funds (fund_id) ON DELETE CASCADE\n",
    "    )\n",
    "    \"\"\")\n",
    "\n",
    "    # Commit the changes\n",
    "    connection.commit()\n",
    "    print(\"Database schema created successfully.\")\n",
    "\n",
    "# Function to close the database connection\n",
    "def close_connection():\n",
    "    connection.close()\n",
    "    print(\"Database connection closed.\")\n",
    "\n",
    "# Execute the schema creation\n",
    "if __name__ == \"__main__\":\n",
    "    create_database_schema()\n",
    "    close_connection()\n"
   ]
  },
  {
   "cell_type": "markdown",
   "id": "299b822b-9da6-426a-a0b8-694ff1d11473",
   "metadata": {},
   "source": [
    "### For validation and testing"
   ]
  },
  {
   "cell_type": "code",
   "execution_count": 2,
   "id": "27eb012f-8a57-469e-9d10-19ad40e966c7",
   "metadata": {},
   "outputs": [
    {
     "name": "stdout",
     "output_type": "stream",
     "text": [
      "(1, 'Growth Fund', 'Equity', '2025-01-01', 5000000.0)\n"
     ]
    }
   ],
   "source": [
    "import sqlite3\n",
    "\n",
    "# Connect to the database\n",
    "connection = sqlite3.connect('investment_funds.db')\n",
    "cursor = connection.cursor()\n",
    "\n",
    "# Insert a new fund\n",
    "cursor.execute(\"INSERT INTO funds (fund_name, fund_type, created_date, total_assets) VALUES ('Growth Fund', 'Equity', '2025-01-01', 5000000)\")\n",
    "connection.commit()\n",
    "\n",
    "# Query all funds\n",
    "cursor.execute(\"SELECT * FROM funds\")\n",
    "rows = cursor.fetchall()\n",
    "for row in rows:\n",
    "    print(row)\n",
    "    \n",
    "# Delete a fund\n",
    "cursor.execute(\"DELETE FROM funds WHERE fund_name = ?\", (\"Growth Fund\",))\n",
    "connection.commit()\n",
    "\n",
    "# Close the connection\n",
    "connection.close()\n"
   ]
  },
  {
   "cell_type": "code",
   "execution_count": null,
   "id": "541e7e52-1606-43ea-bf5c-f84c1d10c975",
   "metadata": {},
   "outputs": [],
   "source": []
  }
 ],
 "metadata": {
  "kernelspec": {
   "display_name": "Python 3 (ipykernel)",
   "language": "python",
   "name": "python3"
  },
  "language_info": {
   "codemirror_mode": {
    "name": "ipython",
    "version": 3
   },
   "file_extension": ".py",
   "mimetype": "text/x-python",
   "name": "python",
   "nbconvert_exporter": "python",
   "pygments_lexer": "ipython3",
   "version": "3.13.2"
  }
 },
 "nbformat": 4,
 "nbformat_minor": 5
}
